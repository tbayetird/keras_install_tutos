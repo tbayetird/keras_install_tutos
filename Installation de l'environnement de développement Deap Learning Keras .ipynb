{
 "cells": [
  {
   "cell_type": "markdown",
   "metadata": {},
   "source": [
    "# Installation d'un environnement de DL (Keras) \n"
   ]
  },
  {
   "cell_type": "markdown",
   "metadata": {},
   "source": [
    "Pour pouvoir développer des algorithmes de Deep Learning, ou simplement utiliser des modèles, il est nécessaire que la machine cible (celle qui doit éxecuter le programme) possède les bilbiothèques nécesaires au fonctionnement desdits algorithmes et modèles. L'ensemble de ces bibliothèques constitue l'environnement de développement sur la machine. \n",
    "\n",
    "L'installation de cet environnement constitue une tâche parfois ardue. Elle dépend du système d'exploitation de l'ordinateur, des versions de ces systèmes d'exploitation, des ressources matérielles... \n",
    "\n",
    "Le but de ce notebook est de proposer diverses méthodes d'installations pour divers systèmes d'exploitation ; chacune des méthodes décrites ici seront testées afin de vérifier l'intégralité du processus d'installation. Les systèmes et machines utilisés pour les tests seront décrits en début de la description du processus d'installation. \n",
    "\n",
    "Il existe de nombreux moyens de pratiquer le Deep Learning ; ce notebook s'oriente sur l'installation de Keras, un framework de développement python. Le choix de ce framework est purement subjectif, et ne sera pas discuté ici. "
   ]
  },
  {
   "cell_type": "markdown",
   "metadata": {},
   "source": [
    "## Installation sous Windows 10 \n"
   ]
  },
  {
   "cell_type": "markdown",
   "metadata": {},
   "source": [
    "### Description de la machine \n",
    "\n",
    "L'installation est testée sous windows 10 Professionnel, version 17134. La machine concernée est munie d'un processeur Intel i5 de 8eme generation (i5-8500) ainsi que d'une carte graphique Nvidia Quadro P400. \n",
    "\n",
    "### Considérations premières \n",
    "\n",
    "Afin de pouvoir utiliser les ressources de la carte graphique, la première étape est d'installer les outils développeurs pour la carte graphique afin de pouvoir utiliser sa puissance pour le calcul. \n",
    "\n",
    "Avec les cartes graphiques Nvidia, il faut en particulier installer deux bibliothèques  :\n",
    "\n",
    "   - NVIDIA CUDA Toolkit : Un environnement de développement pour construire des applications accélérées par GPU. \n",
    "   - cuDNN : Une bibliothèque composée de primitives pour des réseaux de neurones utilisant les ressourcers GPU. \n",
    "   \n",
    "Néanmoins, toutes les versions ne sont pas compatibles avec les futures bibliothèques que nous allons installer (Tensorflow notemment). A l'heure actuelle, il est plus prudent d'installer la version 9.0 pour Tensorflow v1.12. \n",
    "    \n",
    "#### Installation de NVIDIA CUDA Toolkit : \n",
    "\n",
    "   - NVIDIA CUDA Toolkit possède des dépendances vers Visual Studio ; il vous faudra donc préalablement l'installer. Pour cela, se rendre sur la page https://visualstudio.microsoft.com/, puis téléchargez et installez Visual Studio IDE. \n",
    "   - Pour télécharger la bibliothèque, se rendre à la page https://developer.nvidia.com/cuda-90-download-archive et sélectionner la descritpion de sa plateforme \n",
    "   - Suivre les instructions pour l'installation. \n",
    "   \n",
    "#### Installation de cuDNN \n",
    "\n",
    "L'ensemble des instructions à suivre pour installer cuDNN est disponible en anglais sur https://docs.nvidia.com/deeplearning/sdk/cudnn-install/index.html. Il est à noter que la version à télécharger pour être compatible avec l'ensemble des autres bibliothèques est (à ce jour) la version \"cuDNN v7.4.1(Nov8, 2018) for CUDA 9.0\" \n",
    "\n",
    "\n",
    "### Installation de l'environnement \n",
    "\n",
    "Sous Windows, l'idéal pour installer un environnement pour le Deep Learning est de passer par la plateforme Anaconda. C'est une excellente plateforme de développement R/python, avec énormément de packages disponibles. On peut télécharger cette plateforme sur le site officiel : https://www.anaconda.com/distribution/ \n",
    "\n",
    "Lancez l'installation une fois l'exécutable téléchargé. A la fin de celle-ci, Anaconda vous demandera de télécharger Microsoft VS Code ; faites le. Si vous l'avez déjà téléchargé précédemment, l'installeur vous notiefiera simplement qu'il est déjà installé, autrement, l'installation continuera. \n",
    "\n",
    "Une fois l'installation terminée, on peut accéder à la console en ligne de commande anaconda via le menu démarrer, en cherchant 'anaconda' dans les applications installées. \n",
    "\n",
    "\n",
    "Une fois la plateforme installée, on peut poursuivre l'installation : \n",
    "\n",
    "#### Installation des bibliothèques primaires et de python\n",
    "\n",
    "   - Il faut vérifier l'installation des bibliothèques python utiles : pour celà, on va utiliser pip. On installe numpy, scipy, matplotlib, pillow, imutils, h5py, requests, scikit-learn, scikit-image, et opencv-contrib-python en priorité. La plupart devaient déjà se trouver dans votre environnement anaconda, mais il est de bonne aufure de vérifier leurs installation. \n",
    "   \n",
    "\n",
    "\n",
    "\n",
    "\n",
    "        \n"
   ]
  },
  {
   "cell_type": "code",
   "execution_count": 1,
   "metadata": {},
   "outputs": [
    {
     "ename": "SyntaxError",
     "evalue": "invalid syntax (<ipython-input-1-1d288fcce934>, line 1)",
     "output_type": "error",
     "traceback": [
      "\u001b[1;36m  File \u001b[1;32m\"<ipython-input-1-1d288fcce934>\"\u001b[1;36m, line \u001b[1;32m1\u001b[0m\n\u001b[1;33m    pip install numpy\u001b[0m\n\u001b[1;37m              ^\u001b[0m\n\u001b[1;31mSyntaxError\u001b[0m\u001b[1;31m:\u001b[0m invalid syntax\n"
     ]
    }
   ],
   "source": [
    "pip install numpy \n",
    "pip install opencv-contrib-python \n",
    "pip install scipy matplotlib pillow \n",
    "pip install imutils h5py requests\n",
    "pip install scikit-learn scikit-image\n",
    "    "
   ]
  },
  {
   "cell_type": "markdown",
   "metadata": {},
   "source": [
    "   - Pour le moment, python 3.7 et tensorflow ne sont pas compatibles. Pourtant, les dernières versions d'anaconda viennent avec python 3.7. On peut vérifier la version installée grâce à la commande \n",
    "   \n",
    "   "
   ]
  },
  {
   "cell_type": "code",
   "execution_count": null,
   "metadata": {},
   "outputs": [],
   "source": [
    "python --version"
   ]
  },
  {
   "cell_type": "markdown",
   "metadata": {},
   "source": [
    "Il faudra donc downgrader votre version de python pour pouvoir utiliser Tensorflow : "
   ]
  },
  {
   "cell_type": "code",
   "execution_count": null,
   "metadata": {},
   "outputs": [],
   "source": [
    "conda install python=3.6.6"
   ]
  },
  {
   "cell_type": "markdown",
   "metadata": {},
   "source": [
    "Après une courte durée, votre terminal vous demande si vous souhaitez downgrader votre version de python. Validez, puis passez à la suite. "
   ]
  },
  {
   "cell_type": "markdown",
   "metadata": {},
   "source": [
    "#### Installation de Tensorflow \n",
    "\n",
    "Il existe deux types de tensorflow un pour gpu, et un pour cpu. \n",
    "\n",
    "L'installation pour CPU se fait par la commande suivante : "
   ]
  },
  {
   "cell_type": "code",
   "execution_count": 4,
   "metadata": {},
   "outputs": [
    {
     "name": "stdout",
     "output_type": "stream",
     "text": [
      "\n",
      "The following command must be run outside of the IPython shell:\n",
      "\n",
      "    $ pip install tensorflow \n",
      "\n",
      "The Python package manager (pip) can only be used from outside of IPython.\n",
      "Please reissue the `pip` command in a separate terminal or command prompt.\n",
      "\n",
      "See the Python documentation for more information on how to install packages:\n",
      "\n",
      "    https://docs.python.org/3/installing/\n"
     ]
    }
   ],
   "source": [
    "pip install tensorflow "
   ]
  },
  {
   "cell_type": "markdown",
   "metadata": {},
   "source": [
    "L'installatation pour GPU se fait par la commande suivante : "
   ]
  },
  {
   "cell_type": "code",
   "execution_count": 5,
   "metadata": {},
   "outputs": [
    {
     "name": "stdout",
     "output_type": "stream",
     "text": [
      "\n",
      "The following command must be run outside of the IPython shell:\n",
      "\n",
      "    $ pip install tensorflow-gpu\n",
      "\n",
      "The Python package manager (pip) can only be used from outside of IPython.\n",
      "Please reissue the `pip` command in a separate terminal or command prompt.\n",
      "\n",
      "See the Python documentation for more information on how to install packages:\n",
      "\n",
      "    https://docs.python.org/3/installing/\n"
     ]
    }
   ],
   "source": [
    "pip install tensorflow-gpu"
   ]
  },
  {
   "cell_type": "code",
   "execution_count": null,
   "metadata": {},
   "outputs": [],
   "source": []
  }
 ],
 "metadata": {
  "kernelspec": {
   "display_name": "Python 3",
   "language": "python",
   "name": "python3"
  },
  "language_info": {
   "codemirror_mode": {
    "name": "ipython",
    "version": 3
   },
   "file_extension": ".py",
   "mimetype": "text/x-python",
   "name": "python",
   "nbconvert_exporter": "python",
   "pygments_lexer": "ipython3",
   "version": "3.6.7"
  }
 },
 "nbformat": 4,
 "nbformat_minor": 2
}
